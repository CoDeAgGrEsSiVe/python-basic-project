{
 "cells": [
  {
   "cell_type": "code",
   "execution_count": 1,
   "metadata": {},
   "outputs": [],
   "source": [
    "import turtle\n",
    "\n",
    "\n",
    "home = turtle.Turtle()\n",
    "home.pensize(5)\n",
    "home.speed(5)\n",
    "home.hideturtle()\n",
    "\n",
    "\n",
    "def house():\n",
    "    \n",
    "    for i in range(1):\n",
    "        \n",
    "        for colours in ['purple']:\n",
    "            \n",
    "            home.color(colours)\n",
    "            home.right(90),home.write(\"|----50-----|\",True, align=\"center\"),home.forward(100),home.left(180)\n",
    "            home.forward(130),home.left(180),home.forward(130),home.left(90),home.forward(150)\n",
    "            home.left(90),home.forward(300),home.left(90),home.write(\"|--------75-------|\"*6,True, align=(\"right\"))\n",
    "            home.forward(350),home.left(90),home.forward(20),home.left(180),home.forward(20),home.left(90),home.forward(100)\n",
    "            home.left(90),home.forward(250),home.left(90),home.forward(100),home.left(90),home.forward(20)\n",
    "            home.left(180),home.forward(20),home.left(90),home.forward(150),home.left(90),home.forward(50)\n",
    "            home.right(90),home.forward(50),home.left(180),home.forward(50),home.left(90),home.forward(50),home.right(90)\n",
    "            home.forward(100),home.right(90),home.forward(50),home.left(90),home.forward(50),home.right(90)\n",
    "            home.forward(20),(home.pensize(1),home.forward(30)),home.pensize(5),home.forward(20)\n",
    "            home.left(90),home.forward(100),home.right(90),home.forward(10),home.right(90),home.forward(100),home.left(90)\n",
    "            home.forward(20),(home.pensize(1),home.forward(30)),home.pensize(5),home.forward(20)\n",
    "            home.right(90),home.forward(50),home.left(90),home.forward(50),home.right(90),home.forward(200)\n",
    "            home.right(90),home.forward(70),home.left(90),home.forward(40),home.pensize(1),home.forward(30)\n",
    "            home.pensize(5),home.forward(30),home.right(90),home.forward(100),home.right(90)\n",
    "            home.forward(110),home.left(180),home.forward(50),home.right(90),home.forward(50),home.right(180),home.forward(50)\n",
    "            home.right(90),home.forward(60),home.right(90),home.forward(50),home.right(90),home.forward(30),home.right(180)\n",
    "            home.forward(30),home.right(90),home.forward(80),home.right(90),home.forward(150),home.right(90),home.forward(90)\n",
    "            home.left(90),home.forward(50),home.left(90),home.forward(10),home.left(90),home.forward(50),home.right(90)\n",
    "            home.forward(10),home.right(90),home.forward(50),home.right(90),home.forward(60)\n",
    "            home.left(90),(home.pensize(1),home.forward(30)),home.pensize(5),home.forward(70),home.left(90),home.forward(30)\n",
    "\n",
    "house()"
   ]
  },
  {
   "cell_type": "code",
   "execution_count": null,
   "metadata": {},
   "outputs": [],
   "source": []
  }
 ],
 "metadata": {
  "kernelspec": {
   "display_name": "Python 3",
   "language": "python",
   "name": "python3"
  },
  "language_info": {
   "codemirror_mode": {
    "name": "ipython",
    "version": 3
   },
   "file_extension": ".py",
   "mimetype": "text/x-python",
   "name": "python",
   "nbconvert_exporter": "python",
   "pygments_lexer": "ipython3",
   "version": "3.7.4"
  }
 },
 "nbformat": 4,
 "nbformat_minor": 2
}
