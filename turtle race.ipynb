{
 "cells": [
  {
   "cell_type": "code",
   "execution_count": null,
   "metadata": {},
   "outputs": [],
   "source": [
    "from random import randint\n",
    "from turtle import Turtle, Screen\n",
    "\n",
    "TURTLE_SIZE = 20\n",
    "MAXIMUM_SPEED = 15\n",
    "DEFAULTS = {'shape':\"turtle\", 'visible': False}\n",
    "\n",
    "screen = Screen()\n",
    "\n",
    "starting_line = TURTLE_SIZE - screen.window_width()/2\n",
    "finish_line = screen.window_width()/2 - TURTLE_SIZE - MAXIMUM_SPEED\n",
    "\n",
    "turtles = dict(red=Turtle(**DEFAULTS), green=Turtle(**DEFAULTS), blue=Turtle(**DEFAULTS), orange = Turtle(**DEFAULTS),\n",
    "              black = Turtle(**DEFAULTS), gold = Turtle(**DEFAULTS))\n",
    "\n",
    "for i, (color, turtle) in enumerate(turtles.items()):\n",
    "    turtle.color(color)\n",
    "    turtle.penup()\n",
    "    turtle.goto(starting_line, i * TURTLE_SIZE)\n",
    "    turtle.speed(randint(0, MAXIMUM_SPEED))\n",
    "    turtle.showturtle()\n",
    "\n",
    "racing = True\n",
    "\n",
    "while racing:\n",
    "    for turtle in turtles.values():\n",
    "        turtle.forward(turtle.speed() + 5)\n",
    "        if turtle.xcor() >= finish_line:\n",
    "            racing = False\n",
    "            break\n",
    "screen.exitonclick()"
   ]
  },
  {
   "cell_type": "code",
   "execution_count": null,
   "metadata": {},
   "outputs": [],
   "source": []
  }
 ],
 "metadata": {
  "kernelspec": {
   "display_name": "Python 3",
   "language": "python",
   "name": "python3"
  },
  "language_info": {
   "codemirror_mode": {
    "name": "ipython",
    "version": 3
   },
   "file_extension": ".py",
   "mimetype": "text/x-python",
   "name": "python",
   "nbconvert_exporter": "python",
   "pygments_lexer": "ipython3",
   "version": "3.7.4"
  }
 },
 "nbformat": 4,
 "nbformat_minor": 2
}
